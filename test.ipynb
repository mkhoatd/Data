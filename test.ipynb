{
 "cells": [
  {
   "cell_type": "code",
   "execution_count": 30,
   "metadata": {},
   "outputs": [],
   "source": [
    "import pandas as pd\n",
    "import os\n",
    "from IPython.display import display, HTML\n",
    "import numpy as np\n",
    "\n",
    "df_dict={}\n",
    "\n",
    "for file in os.listdir(\".\"):\n",
    "    if file.endswith(\".csv\"):\n",
    "        df = pd.read_csv(file, sep=\",\")\n",
    "        df_dict[file] = df\n"
   ]
  },
  {
   "cell_type": "code",
   "execution_count": 31,
   "metadata": {},
   "outputs": [],
   "source": [
    "# for key,value in df_dict.items():\n",
    "#     display(HTML(\"<h1>{}</h1>\".format(key)))\n",
    "#     display(HTML(value.head().to_html()))"
   ]
  },
  {
   "cell_type": "code",
   "execution_count": 32,
   "metadata": {},
   "outputs": [],
   "source": [
    "for key,value in df_dict.items(): # type: str, pd.DataFrame\n",
    "    value['avgRating']=[float(str(i).replace(',','.')) for i in value['avgRating']]\n",
    "    value['avgRating'] = value['avgRating'].astype(float)\n",
    "    # value['numOfRating']=[str((str(i)[1:-2].replace('.',''))) for i in value['numOfRating']]\n",
    "    # a=[str((str(i).replace('.','')))[1:-1] for i in value['numOfRating']]\n",
    "    value['numOfRating']=[str((str(i).replace('.','').replace('a','')))[1:-1] for i in value['numOfRating']]\n",
    "    value['numOfRating']=[0 if i=='' else int(i) for i in value['numOfRating']]\n",
    "    # print(key,a)\n",
    "    # break\n",
    "    # value['numOfRating']=[i if i!='' else '0' for i in value['numOfRating']]\n",
    "    # value['numOfRating'].astype(int)\n",
    "    df_dict[key]=value"
   ]
  },
  {
   "cell_type": "code",
   "execution_count": 33,
   "metadata": {},
   "outputs": [],
   "source": [
    "resort:pd.DataFrame=df_dict['resort.csv']\n",
    "resort.drop(columns=['Unnamed: 7'],inplace=True)"
   ]
  },
  {
   "cell_type": "code",
   "execution_count": 34,
   "metadata": {},
   "outputs": [
    {
     "data": {
      "text/plain": [
       "link            object\n",
       "name            object\n",
       "avgRating      float64\n",
       "numOfRating      int64\n",
       "category        object\n",
       "price           object\n",
       "plusCode       float64\n",
       "dtype: object"
      ]
     },
     "execution_count": 34,
     "metadata": {},
     "output_type": "execute_result"
    }
   ],
   "source": [
    "resort.dtypes"
   ]
  },
  {
   "cell_type": "code",
   "execution_count": 39,
   "metadata": {},
   "outputs": [],
   "source": [
    "for key,value in df_dict.items():\n",
    "    if 'plusCode' not in value.columns:\n",
    "        print('plusCode',key)\n",
    "        value['plusCode']=np.nan\n",
    "    if 'price' not in value.columns:\n",
    "        print('price',key)\n",
    "        value['price']=np.nan\n",
    "    df_dict[key]=value"
   ]
  },
  {
   "cell_type": "code",
   "execution_count": null,
   "metadata": {},
   "outputs": [],
   "source": [
    "for key,value in df_dict.items():\n",
    "    value.to_csv(key,encoding='utf-8',index=False)"
   ]
  }
 ],
 "metadata": {
  "kernelspec": {
   "display_name": "Python 3.8.13 ('torch')",
   "language": "python",
   "name": "python3"
  },
  "language_info": {
   "codemirror_mode": {
    "name": "ipython",
    "version": 3
   },
   "file_extension": ".py",
   "mimetype": "text/x-python",
   "name": "python",
   "nbconvert_exporter": "python",
   "pygments_lexer": "ipython3",
   "version": "3.8.13"
  },
  "orig_nbformat": 4,
  "vscode": {
   "interpreter": {
    "hash": "0b5a77bf552b230920654c44cb53c65466f608caadb484061e7fb072c7a70cdc"
   }
  }
 },
 "nbformat": 4,
 "nbformat_minor": 2
}
