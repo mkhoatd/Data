{
 "cells": [
  {
   "cell_type": "code",
   "execution_count": 30,
   "metadata": {},
   "outputs": [],
   "source": [
    "import pandas as pd\n",
    "import os\n",
    "from IPython.display import display, HTML\n",
    "import numpy as np\n",
    "\n",
    "df_dict={}\n",
    "\n",
    "for file in os.listdir(\".\"):\n",
    "    if file.endswith(\".csv\"):\n",
    "        df = pd.read_csv(file, sep=\",\")\n",
    "        df_dict[file] = df\n"
   ]
  },
  {
   "cell_type": "code",
   "execution_count": 31,
   "metadata": {},
   "outputs": [],
   "source": [
    "# for key,value in df_dict.items():\n",
    "#     display(HTML(\"<h1>{}</h1>\".format(key)))\n",
    "#     display(HTML(value.head().to_html()))"
   ]
  },
  {
   "cell_type": "code",
   "execution_count": 32,
   "metadata": {},
   "outputs": [],
   "source": [
    "for key,value in df_dict.items(): # type: str, pd.DataFrame\n",
    "    value['avgRating']=[float(str(i).replace(',','.')) for i in value['avgRating']]\n",
    "    value['avgRating'] = value['avgRating'].astype(float)\n",
    "    # value['numOfRating']=[str((str(i)[1:-2].replace('.',''))) for i in value['numOfRating']]\n",
    "    # a=[str((str(i).replace('.','')))[1:-1] for i in value['numOfRating']]\n",
    "    value['numOfRating']=[str((str(i).replace('.','').replace('a','')))[1:-1] for i in value['numOfRating']]\n",
    "    value['numOfRating']=[0 if i=='' else int(i) for i in value['numOfRating']]\n",
    "    # print(key,a)\n",
    "    # break\n",
    "    # value['numOfRating']=[i if i!='' else '0' for i in value['numOfRating']]\n",
    "    # value['numOfRating'].astype(int)\n",
    "    df_dict[key]=value"
   ]
  },
  {
   "cell_type": "code",
   "execution_count": 33,
   "metadata": {},
   "outputs": [],
   "source": [
    "resort:pd.DataFrame=df_dict['resort.csv']\n",
    "resort.drop(columns=['Unnamed: 7'],inplace=True)"
   ]
  },
  {
   "cell_type": "code",
   "execution_count": 34,
   "metadata": {},
   "outputs": [
    {
     "data": {
      "text/plain": [
       "link            object\n",
       "name            object\n",
       "avgRating      float64\n",
       "numOfRating      int64\n",
       "category        object\n",
       "price           object\n",
       "plusCode       float64\n",
       "dtype: object"
      ]
     },
     "execution_count": 34,
     "metadata": {},
     "output_type": "execute_result"
    }
   ],
   "source": [
    "resort.dtypes"
   ]
  },
  {
   "cell_type": "code",
   "execution_count": 39,
   "metadata": {},
   "outputs": [],
   "source": [
    "for key,value in df_dict.items():\n",
    "    if 'plusCode' not in value.columns:\n",
    "        print('plusCode',key)\n",
    "        value['plusCode']=np.nan\n",
    "    if 'price' not in value.columns:\n",
    "        print('price',key)\n",
    "        value['price']=np.nan\n",
    "    df_dict[key]=value"
   ]
  },
  {
   "cell_type": "code",
   "execution_count": 40,
   "metadata": {},
   "outputs": [],
   "source": [
    "for key,value in df_dict.items():\n",
    "    value.to_csv(key,encoding='utf-8',index=False)"
   ]
  },
  {
   "cell_type": "code",
   "execution_count": 42,
   "metadata": {},
   "outputs": [
    {
     "data": {
      "text/html": [
       "<div>\n",
       "<style scoped>\n",
       "    .dataframe tbody tr th:only-of-type {\n",
       "        vertical-align: middle;\n",
       "    }\n",
       "\n",
       "    .dataframe tbody tr th {\n",
       "        vertical-align: top;\n",
       "    }\n",
       "\n",
       "    .dataframe thead th {\n",
       "        text-align: right;\n",
       "    }\n",
       "</style>\n",
       "<table border=\"1\" class=\"dataframe\">\n",
       "  <thead>\n",
       "    <tr style=\"text-align: right;\">\n",
       "      <th></th>\n",
       "      <th>link</th>\n",
       "      <th>name</th>\n",
       "      <th>avgRating</th>\n",
       "      <th>numOfRating</th>\n",
       "      <th>category</th>\n",
       "      <th>price</th>\n",
       "      <th>plusCode</th>\n",
       "    </tr>\n",
       "  </thead>\n",
       "  <tbody>\n",
       "    <tr>\n",
       "      <th>0</th>\n",
       "      <td>https://www.google.com/maps/place/Grand+Sunris...</td>\n",
       "      <td>Grand Sunrise Boutique</td>\n",
       "      <td>4.3</td>\n",
       "      <td>250</td>\n",
       "      <td>Khách sạn 4 sao</td>\n",
       "      <td>542 N</td>\n",
       "      <td>NaN</td>\n",
       "    </tr>\n",
       "    <tr>\n",
       "      <th>1</th>\n",
       "      <td>https://www.google.com/maps/place/Ph%C3%BAc+Th...</td>\n",
       "      <td>Phúc Thanh Hotel</td>\n",
       "      <td>4.1</td>\n",
       "      <td>57</td>\n",
       "      <td>Khách sạn 3 sao</td>\n",
       "      <td>267 N</td>\n",
       "      <td>NaN</td>\n",
       "    </tr>\n",
       "    <tr>\n",
       "      <th>2</th>\n",
       "      <td>https://www.google.com/maps/place/InterContine...</td>\n",
       "      <td>InterContinental Đà Nẵng Sun Peninsula Resort</td>\n",
       "      <td>4.8</td>\n",
       "      <td>1977</td>\n",
       "      <td>Khách sạn 5 sao</td>\n",
       "      <td>16,5 Tr</td>\n",
       "      <td>NaN</td>\n",
       "    </tr>\n",
       "    <tr>\n",
       "      <th>3</th>\n",
       "      <td>https://www.google.com/maps/place/Risemount+Pr...</td>\n",
       "      <td>Risemount Premier Resort Đà Nẵng</td>\n",
       "      <td>4.4</td>\n",
       "      <td>1346</td>\n",
       "      <td>Khách sạn 5 sao</td>\n",
       "      <td>1,04 Tr</td>\n",
       "      <td>NaN</td>\n",
       "    </tr>\n",
       "    <tr>\n",
       "      <th>4</th>\n",
       "      <td>https://www.google.com/maps/place/Furama+Resor...</td>\n",
       "      <td>Furama Resort Danang</td>\n",
       "      <td>4.5</td>\n",
       "      <td>3291</td>\n",
       "      <td>Khách sạn 5 sao</td>\n",
       "      <td>4,15 Tr</td>\n",
       "      <td>NaN</td>\n",
       "    </tr>\n",
       "  </tbody>\n",
       "</table>\n",
       "</div>"
      ],
      "text/plain": [
       "                                                link  \\\n",
       "0  https://www.google.com/maps/place/Grand+Sunris...   \n",
       "1  https://www.google.com/maps/place/Ph%C3%BAc+Th...   \n",
       "2  https://www.google.com/maps/place/InterContine...   \n",
       "3  https://www.google.com/maps/place/Risemount+Pr...   \n",
       "4  https://www.google.com/maps/place/Furama+Resor...   \n",
       "\n",
       "                                            name  avgRating  numOfRating  \\\n",
       "0                         Grand Sunrise Boutique        4.3          250   \n",
       "1                               Phúc Thanh Hotel        4.1           57   \n",
       "2  InterContinental Đà Nẵng Sun Peninsula Resort        4.8         1977   \n",
       "3               Risemount Premier Resort Đà Nẵng        4.4         1346   \n",
       "4                           Furama Resort Danang        4.5         3291   \n",
       "\n",
       "          category    price  plusCode  \n",
       "0  Khách sạn 4 sao    542 N       NaN  \n",
       "1  Khách sạn 3 sao    267 N       NaN  \n",
       "2  Khách sạn 5 sao  16,5 Tr       NaN  \n",
       "3  Khách sạn 5 sao  1,04 Tr       NaN  \n",
       "4  Khách sạn 5 sao  4,15 Tr       NaN  "
      ]
     },
     "execution_count": 42,
     "metadata": {},
     "output_type": "execute_result"
    }
   ],
   "source": [
    "resort.head()"
   ]
  },
  {
   "cell_type": "code",
   "execution_count": 43,
   "metadata": {},
   "outputs": [],
   "source": [
    "resort['price']=[i.replace(u' ',' ') for i in resort['price']]"
   ]
  },
  {
   "cell_type": "code",
   "execution_count": null,
   "metadata": {},
   "outputs": [],
   "source": [
    "resort.to_csv('resort.csv',encoding='utf-8',index=False)"
   ]
  }
 ],
 "metadata": {
  "kernelspec": {
   "display_name": "Python 3.8.13 ('torch')",
   "language": "python",
   "name": "python3"
  },
  "language_info": {
   "codemirror_mode": {
    "name": "ipython",
    "version": 3
   },
   "file_extension": ".py",
   "mimetype": "text/x-python",
   "name": "python",
   "nbconvert_exporter": "python",
   "pygments_lexer": "ipython3",
   "version": "3.8.13"
  },
  "orig_nbformat": 4,
  "vscode": {
   "interpreter": {
    "hash": "0b5a77bf552b230920654c44cb53c65466f608caadb484061e7fb072c7a70cdc"
   }
  }
 },
 "nbformat": 4,
 "nbformat_minor": 2
}
